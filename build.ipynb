{
 "cells": [
  {
   "cell_type": "markdown",
   "metadata": {},
   "source": [
    "# Validate & Build Camerarius"
   ]
  },
  {
   "cell_type": "markdown",
   "metadata": {},
   "source": [
    "## Validation Reports\n",
    "\n"
   ]
  },
  {
   "cell_type": "code",
   "execution_count": null,
   "metadata": {
    "scrolled": true
   },
   "outputs": [],
   "source": [
    "// A handle can also be retained, to later update or clear things\n",
    "val textValidation = almond.display.Markdown(\"\"\"\n",
    "## Text Validation\n",
    "\n",
    "> No report\n",
    "\n",
    "## Collection Validation\n",
    "\n",
    "> No report\n",
    "\n",
    "\"\"\")"
   ]
  },
  {
   "cell_type": "markdown",
   "metadata": {},
   "source": [
    "## Methods for Updating Report"
   ]
  },
  {
   "cell_type": "code",
   "execution_count": null,
   "metadata": {},
   "outputs": [],
   "source": [
    "def updateValidation( s1: String = \"No report\", s2: String = \"No report\", handle: almond.display.Markdown = textValidation ): Unit = {\n",
    "    handle.withContent(s\"\"\"\n",
    "## Text Validation\n",
    "\n",
    "${s1}\n",
    "\n",
    "## Collection Validation\n",
    "\n",
    "${s2}\n",
    "\n",
    "\"\"\").update()\n",
    "}\n"
   ]
  },
  {
   "cell_type": "markdown",
   "metadata": {},
   "source": [
    "## Editable Variables\n",
    "\n",
    "We stick these up top where they are easy to find and change!"
   ]
  },
  {
   "cell_type": "code",
   "execution_count": null,
   "metadata": {},
   "outputs": [],
   "source": [
    "// Paths to template files\n",
    "val dmTemplateCexPath: String = \"pre-cex/data-models.cex\"\n",
    "val imageTemplateCexPath: String = \"pre-cex/img_coll_template.cex\"\n",
    "\n",
    "// URLs for data in-progress\n",
    "val figDataUrl: String = \"https://docs.google.com/spreadsheets/d/1jslymhAMJLaWMka5gswxHE1MTH8JZRp3B831w6UPfnA/export?format=csv\"\n",
    "val imgTextUrl: String = \"https://docs.google.com/spreadsheets/d/11vJuQE7_oPDrIlFYzqoBMRlDuichan3eDXxsXenBP24/export?format=csv\"\n",
    "val textEditionUrl: String = \"https://docs.google.com/spreadsheets/d/1xPo3x3bcssHrFTWXTcw08dGe3xXxa9OCOQytn5ICS5Q/export?format=csv\"\n",
    "val imageUrnsUrl: String = \"https://docs.google.com/spreadsheets/d/1WX_SZtPyz0f1dX3gAalmoh1dVFffiqyaKJeE4sLQ_pQ/export?format=csv\"\n",
    "val pageUrnsUrl: String = \"https://docs.google.com/spreadsheets/d/1q4hoO3565ZhWyXUA1Z3gejTgB7Pn-T0DqP9wTkdjLuM/export?format=csv\"\n",
    "\n",
    "// Stuff for images\n",
    "val ictUrl: String = \"http://www.homermultitext.org/ict2/index.html?urn=\"\n",
    "val thumbUrl: String = \"http://www.homermultitext.org/iipsrv?OBJ=IIP,1.0&FIF=/project/homer/pyramidal/deepzoom/fufolio/camerarius1668/2020a/IMAGE_ID_HERE.tif&RGN=IMG_ROI_HERE&wID=5000&CVT=JPEG\"\n",
    "\n",
    "// Metadata for the Library\n",
    "val citeLibName: String = \"Camerarius Project, Furman University, 2020\"\n",
    "val citeLibUrnString: String = \"urn:cite2:fufolio:camerarius.2020temp:\"\n",
    "val citeLibUrnLicense: String = \"https://creativecommons.org/licenses/by-sa/4.0/\"\n",
    "\n",
    "// Metadata for our text\n",
    "val textUrnString: String = \"urn:cts:fufolio:camerarius.se.fu1668:\"\n",
    "val textGroupLabel: String = \"Joachim Camerarius the Younger\"\n",
    "val workLabel: String = \"Symbola et Emblemata\"\n",
    "val versionLabel: String = \"Furman Editions, digital text of the 1669 edition\"\n",
    "val langString: String = \"lat\"\n",
    "\n"
   ]
  },
  {
   "cell_type": "markdown",
   "metadata": {},
   "source": [
    "## Configuring Libraries for the Almond Kernel\n",
    "\n",
    "First, we'll make a bintray repository with libraries available to your almond kernel."
   ]
  },
  {
   "cell_type": "code",
   "execution_count": null,
   "metadata": {},
   "outputs": [],
   "source": [
    "val myBT = coursierapi.MavenRepository.of(\"https://dl.bintray.com/neelsmith/maven\")\n",
    "\n",
    "interp.repositories() ++= Seq(myBT)"
   ]
  },
  {
   "cell_type": "markdown",
   "metadata": {},
   "source": [
    "Next, we bring in specific libraries from the new repository using almond's `$ivy` magic:"
   ]
  },
  {
   "cell_type": "code",
   "execution_count": null,
   "metadata": {},
   "outputs": [],
   "source": [
    "import $ivy.`org.plotly-scala::plotly-almond:0.7.1`\n",
    "import plotly._, plotly.element._, plotly.layout._, plotly.Almond._\n",
    "\n",
    "import $ivy.`com.github.tototoshi::scala-csv:1.3.6`\n",
    "import com.github.tototoshi.csv._\n",
    "\n",
    "// if you want to have the plots available without an internet connection:\n",
    "init(offline=true)\n",
    "\n",
    "// restrict the output height to avoid scrolling in output cells\n",
    "repl.pprinter() = repl.pprinter().copy(defaultHeight = 3)\n",
    "\n",
    "import $ivy.`edu.holycross.shot::ohco2:10.20.3`\n",
    "import $ivy.`edu.holycross.shot.cite::xcite:4.3.0`\n",
    "import $ivy.`edu.holycross.shot::scm:7.4.0`\n",
    "import $ivy.`edu.holycross.shot::dse:7.1.3`\n",
    "import $ivy.`edu.holycross.shot::citebinaryimage:3.2.0`\n",
    "import $ivy.`edu.holycross.shot::citeobj:7.5.1`\n",
    "import $ivy.`edu.holycross.shot::citerelations:2.7.0`\n",
    "import $ivy.`edu.holycross.shot::cex:6.5.0`\n",
    "import $ivy.`edu.holycross.shot::greek:9.0.0`"
   ]
  },
  {
   "cell_type": "markdown",
   "metadata": {},
   "source": [
    "## Imports\n",
    "\n",
    "From this point on, your notebook consists of completely generic Scala, with the CITE Libraries available to use."
   ]
  },
  {
   "cell_type": "code",
   "execution_count": null,
   "metadata": {},
   "outputs": [],
   "source": [
    "import almond.display.UpdatableDisplay\n",
    "import almond.interpreter.api.DisplayData.ContentType\n",
    "import almond.interpreter.api.{DisplayData, OutputHandler}\n",
    "\n",
    "import java.io.File\n",
    "import java.io.PrintWriter\n",
    "\n",
    "import scala.io.Source\n",
    "\n",
    "import java.text.SimpleDateFormat\n",
    "import java.util.Date\n",
    "\n",
    "// Import some CITE libraries\n",
    "import edu.holycross.shot.cite._\n",
    "import edu.holycross.shot.ohco2._\n",
    "import edu.holycross.shot.scm._\n",
    "import edu.holycross.shot.citeobj._\n",
    "import edu.holycross.shot.citerelation._\n",
    "import edu.holycross.shot.dse._\n",
    "import edu.holycross.shot.citebinaryimage._\n",
    "import edu.holycross.shot.ohco2._\n",
    "import edu.holycross.shot.greek._\n",
    "\n",
    "\n"
   ]
  },
  {
   "cell_type": "markdown",
   "metadata": {},
   "source": [
    "## Useful Functions"
   ]
  },
  {
   "cell_type": "markdown",
   "metadata": {},
   "source": [
    "Save a string to a named file:"
   ]
  },
  {
   "cell_type": "code",
   "execution_count": null,
   "metadata": {},
   "outputs": [],
   "source": [
    "def saveString(s:String, filePath:String = \"temp\", fileName:String = \"temp.txt\"):Unit = {\n",
    "\t\t val writer = new PrintWriter(new File(s\"${filePath}${fileName}\"))\n",
    "         writer.write(s)\n",
    "         writer.close()\n",
    "\t}"
   ]
  },
  {
   "cell_type": "markdown",
   "metadata": {},
   "source": [
    "Like `.split`, but preserving the character we split on:"
   ]
  },
  {
   "cell_type": "code",
   "execution_count": null,
   "metadata": {},
   "outputs": [],
   "source": [
    "def splitWithSplitter(text: String, puncs: String): Vector[String] = {\n",
    "\t//val regexWithSplitter = s\"((?<=${puncs})|(?=${puncs}))\"\n",
    "    val regexWithSplitter = s\"((?<=${puncs}))\"\n",
    "\ttext.split(regexWithSplitter).toVector.filter(_.size > 0)\n",
    "}"
   ]
  },
  {
   "cell_type": "markdown",
   "metadata": {},
   "source": [
    "Pretty Print Things:"
   ]
  },
  {
   "cell_type": "code",
   "execution_count": null,
   "metadata": {
    "scrolled": true
   },
   "outputs": [],
   "source": [
    "def showMe(v:Any):Unit = {\n",
    "  v match {\n",
    "    case _:Vector[Any] => println(s\"\"\"\\n----\\n${v.asInstanceOf[Vector[Any]].mkString(\"\\n\")}\\n----\\n\"\"\")\n",
    "    case _:Iterable[Any] => println(s\"\"\"\\n----\\n${v.asInstanceOf[Iterable[Any]].mkString(\"\\n\")}\\n----\\n\"\"\")\n",
    "    case _ => println(s\"\\n-----\\n${v}\\n----\\n\")\n",
    "  }\n",
    "}"
   ]
  },
  {
   "cell_type": "markdown",
   "metadata": {},
   "source": [
    "Load current data from our shared Google Spreadsheets.\n",
    "\n",
    "The data is in `.csv`, and the fields included change over time, so we have to do this the hard way, with a real CSV library."
   ]
  },
  {
   "cell_type": "code",
   "execution_count": null,
   "metadata": {},
   "outputs": [],
   "source": [
    "def getNParse(url: String ): List[Map[String, String]] = {\n",
    "    val reader = CSVReader.open(scala.io.Source.fromURL(url))\n",
    "    reader.allWithHeaders()\n",
    "}"
   ]
  },
  {
   "cell_type": "markdown",
   "metadata": {},
   "source": [
    "## Classes for Data\n",
    "\n",
    "We make some Scala classes for our specific data-files. These will be turned into CTS texts or CITE Collections eventually, with **validation** in the process."
   ]
  },
  {
   "cell_type": "code",
   "execution_count": null,
   "metadata": {},
   "outputs": [],
   "source": [
    "case class figureRow( urn: Cite2Urn, figRoi: Cite2Urn, captionRoi: Cite2Urn, text: String, passage: CtsUrn, description: String )\n",
    "\n",
    "case class textImageRow( text: CtsUrn, image: Cite2Urn)"
   ]
  },
  {
   "cell_type": "markdown",
   "metadata": {},
   "source": [
    "## Load & Validate a Text\n",
    "\n",
    "We will take this a step at a time, validating wherever possible.\n",
    "\n",
    "The end result will be a CITE `Corpus` object, which we can incorporate into a full CITE Library of Camerarius Data.\n",
    "\n",
    "No news is good news. If the following cells run without obviousl errors, the data is valid."
   ]
  },
  {
   "cell_type": "code",
   "execution_count": null,
   "metadata": {},
   "outputs": [],
   "source": [
    "/* \n",
    "\n",
    "    Here we use com.github.tototoshi.csv to parse CSV into a Vector of Tuple[String, String]\n",
    "  \n",
    "    We could go all the way to a CITE Corpus, but we want to do validation, so we'll take\n",
    "    it a step at a time.\n",
    "    \n",
    "*/\n",
    "\n",
    "\n",
    "def csvMapToTextTuples( csv: List[Map[String, String]]): Vector[(String, String)] = {\n",
    "     csv.map( dm => {\n",
    "        val citationString: String = dm(\"Citation\")\n",
    "        val passage: String = dm(\"Passage\")\n",
    "        (citationString, passage)\n",
    "    }).toVector\n",
    "}\n",
    "\n",
    "val csv: List[Map[String, String]] = getNParse(textEditionUrl)\n",
    "\n",
    "val textTuples: Vector[(String, String)] = csvMapToTextTuples(csv)\n"
   ]
  },
  {
   "cell_type": "code",
   "execution_count": null,
   "metadata": {
    "scrolled": true
   },
   "outputs": [],
   "source": [
    "/* \n",
    "\n",
    "    Here we build a Corpus, and validate along the way.\n",
    "    Errors will be printed below!\n",
    "    \n",
    "*/\n",
    "\n",
    "var textMessage = \"\"\n",
    "\n",
    "// Validate individual URNs\n",
    "for (tt <- textTuples) {\n",
    "    val psgText: String = tt._1\n",
    "    val urnStr: String = textUrnString + psgText\n",
    "    try {\n",
    "        val u: CtsUrn = CtsUrn(urnStr)\n",
    "    } catch {\n",
    "        case e:Exception => {\n",
    "            val errorMsg: String = s\"\"\"<p style=\"color: red\">Failed to make URN with passage ${psgText}: ${e}</p>\"\"\"\n",
    "            textMessage += \"\\n\\n\" ++ errorMsg\n",
    "            println(s\"\\nERROR\\n\\tFailed to make URN with passage ${psgText}\\n\")\n",
    "        }\n",
    "    }\n",
    "}\n",
    "\n",
    "\n",
    "// Make a Corpus\n",
    "val nodeVec: Vector[CitableNode] = textTuples.map( tt => {\n",
    "    val psgText: String = tt._1\n",
    "    val urnStr: String = textUrnString + psgText\n",
    "    val u: CtsUrn = CtsUrn(urnStr)\n",
    "    val passage: String = tt._2\n",
    "    CitableNode( u, passage )\n",
    "})\n",
    "\n",
    "val camerariusCorpusOption: Option[Corpus] = {\n",
    "    try {\n",
    "        val c = Corpus(nodeVec)\n",
    "        textMessage += \"\"\"<p style=\"color: green\">Successfully made a Corpus</p>\"\"\"\n",
    "        println(textMessage)\n",
    "        Some(c)\n",
    "    } catch {\n",
    "        case e:Exception => {\n",
    "            val errorMsg: String = s\"\"\"\"<p style=\"color: red\">Failed to make a Corpus: ${e}</p>\"\"\"\n",
    "            textMessage += errorMsg\n",
    "            println( s\"Failed to make a Corpus: ${e}\")\n",
    "            None\n",
    "        }\n",
    "    }\n",
    "}\n",
    "\n",
    "updateValidation(s1 = textMessage)\n",
    "\n",
    "camerariusCorpusOption.get.size"
   ]
  },
  {
   "cell_type": "markdown",
   "metadata": {},
   "source": [
    "## Generate & Validate the Collections of Images and Pages\n",
    "\n",
    "**N.b.** Even though, for the moment, we have a 1:1 correspondance between images of Camerarius pages and pages, these need to be two collections. "
   ]
  },
  {
   "cell_type": "code",
   "execution_count": null,
   "metadata": {},
   "outputs": [],
   "source": [
    "var collErrorMsg = \"\"\n",
    "\n",
    "def imageCsv( csv: List[Map[String, String]], col: String): Vector[String] = {\n",
    "     csv.map( dm => {\n",
    "        val citationString: String = dm(col)\n",
    "         citationString\n",
    "    }).toVector\n",
    "}\n",
    "\n",
    "val csv: List[Map[String, String]] = getNParse(imageUrnsUrl)\n",
    "\n",
    "val imageUrnStringVec: Vector[String] = imageCsv(csv, \"ImageUrn\")\n",
    "\n",
    "val imageUrnVec: Vector[Cite2Urn] = {\n",
    "    try {\n",
    "        val v = imageUrnStringVec.map( s => Cite2Urn(s))\n",
    "        collErrorMsg += s\"\"\"<p style=\"color: green\">Made list of ${v.size} image URNs</p>\"\"\"\n",
    "        v\n",
    "    } catch {\n",
    "        case e: Exception => {\n",
    "            collErrorMsg += s\"\"\"<p style=\"color: red\">Error making list of Image URNs: ${e}</p>\"\"\"\n",
    "            println(e)\n",
    "            Vector()\n",
    "        }\n",
    "    }\n",
    "}\n",
    "\n",
    "// pageUrnsUrl\n",
    "\n",
    "def pageCsv( csv: List[Map[String, String]]): Vector[String] = {\n",
    "     csv.map( dm => {\n",
    "        val citationString: String = dm(\"PageUrns\")\n",
    "         citationString\n",
    "    }).toVector\n",
    "}\n",
    "\n",
    "val pagecsv: List[Map[String, String]] = getNParse(pageUrnsUrl)\n",
    "\n",
    "val pageUrnStringVec: Vector[String] = imageCsv(pagecsv, \"PageUrns\")\n",
    "\n",
    "val pageUrnVec: Vector[Cite2Urn] = {\n",
    "    try {\n",
    "        val v = pageUrnStringVec.map( s => Cite2Urn(s))\n",
    "        collErrorMsg += s\"\"\"<p style=\"color: green\">Made list of ${v.size} page URNs</p>\"\"\"\n",
    "        v\n",
    "    } catch {\n",
    "        case e: Exception => {\n",
    "            collErrorMsg += s\"\"\"<p style=\"color: red\">Error making list of Page URNs: ${e}</p>\"\"\"\n",
    "            println(e)\n",
    "            Vector()\n",
    "        }\n",
    "    }\n",
    "}\n",
    "\n",
    "\n",
    "\n",
    "val imageAndPageLib: CiteLibrary = {\n",
    "    CiteLibrary(Source.fromFile(imageTemplateCexPath).getLines.mkString(\"\\n\"))\n",
    "}\n",
    "\n",
    "updateValidation(s1 = textMessage, s2 = collErrorMsg )\n",
    "\n",
    "/* Make Colllection out of imageUrnVec */\n",
    "\n",
    "// Get dummy collection\n",
    "val imgCollTemplate: String = Source.fromFile(imageTemplateCexPath).getLines.mkString(\"\\n\")\n",
    "\n",
    "val pageObjectVec: Vector[String] = pageUrnVec.zipWithIndex.map( si => {\n",
    "    val s = si._1\n",
    "    val i = si._2\n",
    "    val urnStr: String = s.toString\n",
    "    val pageNum: String = s.objectComponent\n",
    "    val label: String = s\"The 1668 edition of Camerarius, page ${pageNum}\"\n",
    "    val seq: String = s\"${i + 1}\"\n",
    "    s\"${urnStr}#${label}#${seq}\"\n",
    "})\n",
    "\n",
    "val imgObjectVec: Vector[String] = imageUrnVec.map( s => {\n",
    "    val urnStr: String = s.toString\n",
    "    val imgNum: String = s.objectComponent\n",
    "    val label: String = s\"The 1668 edition of Camerarius, image ${imgNum}\"\n",
    "    val rights: String = \"Public Domain\"\n",
    "    s\"${urnStr}#${label}#${rights}\"\n",
    "})\n",
    "\n",
    "val imgDataVec: Vector[String] = \"#!citedata\\nurn#caption#rights\" +: imgObjectVec\n",
    "\n",
    "val imgDataStr = imgDataVec.mkString(\"\\n\")\n",
    "\n",
    "val pageDataVec: Vector[String] = \"#!citedata\\nurn#label#sequence\" +: pageObjectVec\n",
    "\n",
    "val pageDataStr = pageDataVec.mkString(\"\\n\")\n",
    "\n",
    "val imageCollectionCexString = imgCollTemplate + \"\\n\\n\" + imgDataStr + \"\\n\\n\" + pageDataStr\n",
    "\n",
    "val imageCollectionLibrary: Option[CiteLibrary] = {\n",
    "    try {\n",
    "        val v = CiteLibrary(imageCollectionCexString)\n",
    "        collErrorMsg += s\"\"\"<p style=\"color: green\">Successfully generated collections of pages and images.</p>\"\"\"\n",
    "        Some(v)\n",
    "    } catch {\n",
    "        case e: Exception => {\n",
    "            collErrorMsg += s\"\"\"<p style=\"color: red\">Error making collections of pages and images: ${e}</p>\"\"\"\n",
    "            println(e)\n",
    "            None\n",
    "        }\n",
    "    }\n",
    "}\n",
    "\n",
    "updateValidation(s1 = textMessage, s2 = collErrorMsg )\n"
   ]
  },
  {
   "cell_type": "markdown",
   "metadata": {},
   "source": [
    "## Generate a Library of DataModels"
   ]
  },
  {
   "cell_type": "code",
   "execution_count": null,
   "metadata": {},
   "outputs": [],
   "source": [
    "\n",
    "val datamodelLib: Option[CiteLibrary] = {\n",
    "    try {\n",
    "        val cl = CiteLibrary(Source.fromFile(dmTemplateCexPath).getLines.mkString(\"\\n\"))\n",
    "        collErrorMsg += s\"\"\"<p style=\"color: green\">Made Data Model Collection</p>\"\"\"\n",
    "        Some(cl)\n",
    "    } catch {\n",
    "        case e: Exception => {\n",
    "          collErrorMsg += s\"\"\"<p style=\"color: red\">Error making Data Model Collection: ${e}</p>\"\"\"\n",
    "          None\n",
    "        }\n",
    "    }\n",
    "}\n",
    "\n",
    "updateValidation(s1 = textMessage, s2 = collErrorMsg )\n"
   ]
  },
  {
   "cell_type": "markdown",
   "metadata": {},
   "source": []
  },
  {
   "cell_type": "code",
   "execution_count": null,
   "metadata": {},
   "outputs": [],
   "source": []
  },
  {
   "cell_type": "code",
   "execution_count": null,
   "metadata": {},
   "outputs": [],
   "source": []
  }
 ],
 "metadata": {
  "kernel_info": {
   "name": "scala"
  },
  "kernelspec": {
   "display_name": "Scala",
   "language": "scala",
   "name": "scala"
  },
  "language_info": {
   "codemirror_mode": "text/x-scala",
   "file_extension": ".scala",
   "mimetype": "text/x-scala",
   "name": "scala",
   "nbconvert_exporter": "script",
   "version": "2.12.10"
  },
  "nteract": {
   "version": "0.15.0"
  }
 },
 "nbformat": 4,
 "nbformat_minor": 2
}
